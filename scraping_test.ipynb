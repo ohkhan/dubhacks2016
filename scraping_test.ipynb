{
 "cells": [
  {
   "cell_type": "code",
   "execution_count": 233,
   "metadata": {
    "collapsed": false
   },
   "outputs": [],
   "source": [
    "# Uses beautifulsoup4, urllib, json\n",
    "# Before every commit, do \"git pull --rebase\"\n",
    "\n",
    "'''first, get track ids from genre list\n",
    "\n",
    "create dictionary with key( genre) and value( list of track ids )\n",
    "\n",
    "for each track, get id, user_id, genre, tag_list\n",
    "    for the user in the track:\n",
    "        id, uri, permalink_url, country'''\n",
    "\n",
    "from bs4 import BeautifulSoup\n",
    "import urllib.request\n",
    "import json\n",
    "import csv as csv\n",
    "\n",
    "page_url = \"http://www.soundcloud.com/charts\"\n",
    "page_html = urllib.request.urlopen( page_url ).read()\n",
    "\n",
    "page_beautifulsoup_object = BeautifulSoup( page_html, \"html.parser\" )\n",
    "\n",
    "page_html_file = open( \"html_saved_prettified.html\", \"w\" )\n",
    "page_html_file.write( page_beautifulsoup_object.body.div.find_all( \"noscript\" )[ 1 ].section.section.find_all( \"article\" )[ 1 ].ul.prettify() )\n",
    "\n",
    "page_beautifulsoup_genres_array = page_beautifulsoup_object.body.div.find_all( \"noscript\" )[ 1 ].section.section.find_all( \"article\" )[ 1 ].ul\n",
    "\n",
    "genre_song_list_length_limit = 100\n",
    "\n",
    "api_url_chunk_1 = \"https://api-v2.soundcloud.com/charts?kind=top&genre=soundcloud%3Agenres%3A\"\n",
    "api_url_chunk_2 = \"&client_id=02gUJC0hH2ct1EGOcYXQIzRFU91c72Ea&limit=\" + str( genre_song_list_length_limit ) + \"&offset=0&linked_partitioning=1&app_version=1476434302\"\n",
    "\n",
    "genre_list = []\n",
    "\n",
    "iterator = 0\n",
    "for value in page_beautifulsoup_genres_array:\n",
    "    if iterator > 3 and iterator % 2 == 1:\n",
    "        # Reverse search through the HTML to find the first and last indices of the genre name\n",
    "        genre_string_start_index = repr( value ).rfind( \"=\" ) + 1\n",
    "        genre_string_end_index = repr( value ).rfind( \"\\\"\" )\n",
    "        genre_string = repr( value )[ genre_string_start_index : genre_string_end_index ]\n",
    "        genre_list.append( genre_string )\n",
    "    iterator = iterator + 1\n",
    "\n",
    "f = open(\"tracks1.csv\",\"w\")\n",
    "f1 = csv.writer(f)\n",
    "for genre in genre_list:\n",
    "    json_data = urllib.request.urlopen( api_url_chunk_1 + genre + api_url_chunk_2 ).read().decode( \"utf-8\" )\n",
    "    json_object = json.loads( json_data ).get( \"collection\" )\n",
    "    \n",
    "    for song_dict in json_object:\n",
    "        #f1.writerow([song_dict[\"track\"][\"user_id\"], song_dict[\"track\"][\"user\"][\"username\"]])\n",
    "        f1.writerow([song_dict[\"track\"][\"id\"], song_dict[\"track\"][\"user_id\"],song_dict[\"track\"][\"title\"],genre,song_dict[\"track\"][\"playback_count\"],song_dict[\"track\"][\"likes_count\"]])\n",
    "\n",
    "f.close()\n"
   ]
  },
  {
   "cell_type": "code",
   "execution_count": 235,
   "metadata": {
    "collapsed": false
   },
   "outputs": [],
   "source": [
    "import pandas as pd\n",
    "df = pd.read_csv(\"tracks1.csv\")\n",
    "df.columns = [\"track_id\", \"user_id\", \"title\", \"genre\", \"playback_count\", \"likes\"]"
   ]
  },
  {
   "cell_type": "code",
   "execution_count": 167,
   "metadata": {
    "collapsed": false
   },
   "outputs": [],
   "source": [
    "df.drop_duplicates(inplace=True)"
   ]
  },
  {
   "cell_type": "code",
   "execution_count": 236,
   "metadata": {
    "collapsed": false
   },
   "outputs": [
    {
     "data": {
      "text/html": [
       "<div>\n",
       "<table border=\"1\" class=\"dataframe\">\n",
       "  <thead>\n",
       "    <tr style=\"text-align: right;\">\n",
       "      <th></th>\n",
       "      <th>track_id</th>\n",
       "      <th>user_id</th>\n",
       "      <th>title</th>\n",
       "      <th>genre</th>\n",
       "      <th>playback_count</th>\n",
       "      <th>likes</th>\n",
       "    </tr>\n",
       "  </thead>\n",
       "  <tbody>\n",
       "    <tr>\n",
       "      <th>0</th>\n",
       "      <td>272105509</td>\n",
       "      <td>48084634</td>\n",
       "      <td>xxxtentacion - YuNg BrAtZ Prod. STAIN</td>\n",
       "      <td>alternativerock</td>\n",
       "      <td>1271007.0</td>\n",
       "      <td>28174.0</td>\n",
       "    </tr>\n",
       "    <tr>\n",
       "      <th>1</th>\n",
       "      <td>270817339</td>\n",
       "      <td>10494998</td>\n",
       "      <td>Stole Your Luv ++ Prod. Lyle LeDuff</td>\n",
       "      <td>alternativerock</td>\n",
       "      <td>4723663.0</td>\n",
       "      <td>94837.0</td>\n",
       "    </tr>\n",
       "    <tr>\n",
       "      <th>2</th>\n",
       "      <td>263994790</td>\n",
       "      <td>99685284</td>\n",
       "      <td>Hollywood Dreams /  Comedown (Prod. by FKi &amp; L...</td>\n",
       "      <td>alternativerock</td>\n",
       "      <td>3007916.0</td>\n",
       "      <td>50156.0</td>\n",
       "    </tr>\n",
       "    <tr>\n",
       "      <th>3</th>\n",
       "      <td>274770566</td>\n",
       "      <td>505203</td>\n",
       "      <td>Playboi Carti - Pump Fake! (Freestyle)</td>\n",
       "      <td>alternativerock</td>\n",
       "      <td>1050026.0</td>\n",
       "      <td>28004.0</td>\n",
       "    </tr>\n",
       "    <tr>\n",
       "      <th>4</th>\n",
       "      <td>229528669</td>\n",
       "      <td>3932070</td>\n",
       "      <td>Emperor's New Clothes</td>\n",
       "      <td>alternativerock</td>\n",
       "      <td>5253830.0</td>\n",
       "      <td>79319.0</td>\n",
       "    </tr>\n",
       "  </tbody>\n",
       "</table>\n",
       "</div>"
      ],
      "text/plain": [
       "    track_id   user_id                                              title  \\\n",
       "0  272105509  48084634              xxxtentacion - YuNg BrAtZ Prod. STAIN   \n",
       "1  270817339  10494998                Stole Your Luv ++ Prod. Lyle LeDuff   \n",
       "2  263994790  99685284  Hollywood Dreams /  Comedown (Prod. by FKi & L...   \n",
       "3  274770566    505203             Playboi Carti - Pump Fake! (Freestyle)   \n",
       "4  229528669   3932070                              Emperor's New Clothes   \n",
       "\n",
       "             genre  playback_count    likes  \n",
       "0  alternativerock       1271007.0  28174.0  \n",
       "1  alternativerock       4723663.0  94837.0  \n",
       "2  alternativerock       3007916.0  50156.0  \n",
       "3  alternativerock       1050026.0  28004.0  \n",
       "4  alternativerock       5253830.0  79319.0  "
      ]
     },
     "execution_count": 236,
     "metadata": {},
     "output_type": "execute_result"
    }
   ],
   "source": []
  },
  {
   "cell_type": "code",
   "execution_count": 230,
   "metadata": {
    "collapsed": true
   },
   "outputs": [],
   "source": [
    "df.to_csv(\"tracks_and_artists.csv\")"
   ]
  },
  {
   "cell_type": "code",
   "execution_count": 172,
   "metadata": {
    "collapsed": false
   },
   "outputs": [
    {
     "data": {
      "text/plain": [
       "50"
      ]
     },
     "execution_count": 172,
     "metadata": {},
     "output_type": "execute_result"
    }
   ],
   "source": [
    "df.name.str.len().max()"
   ]
  },
  {
   "cell_type": "code",
   "execution_count": 174,
   "metadata": {
    "collapsed": false
   },
   "outputs": [
    {
     "data": {
      "text/plain": [
       "(2257, 2)"
      ]
     },
     "execution_count": 174,
     "metadata": {},
     "output_type": "execute_result"
    }
   ],
   "source": [
    "df.shape"
   ]
  },
  {
   "cell_type": "code",
   "execution_count": 185,
   "metadata": {
    "collapsed": false
   },
   "outputs": [],
   "source": [
    "import string\n",
    "printable  = set(string.printable)"
   ]
  },
  {
   "cell_type": "code",
   "execution_count": 272,
   "metadata": {
    "collapsed": false
   },
   "outputs": [],
   "source": [
    "a = lambda x: str(x).encode('ascii', 'replace')\n",
    "b = lambda x: str.decode(\"utf-8\").replace(u\"\\u2022\", \"*\")"
   ]
  },
  {
   "cell_type": "code",
   "execution_count": 237,
   "metadata": {
    "collapsed": false
   },
   "outputs": [],
   "source": [
    "df[\"title\"] = df[\"title\"].apply(a)"
   ]
  },
  {
   "cell_type": "code",
   "execution_count": 244,
   "metadata": {
    "collapsed": false
   },
   "outputs": [],
   "source": [
    "df.dropna(inplace=True)"
   ]
  },
  {
   "cell_type": "code",
   "execution_count": 245,
   "metadata": {
    "collapsed": true
   },
   "outputs": [],
   "source": [
    "df.to_csv(\"tracks1.csv\")"
   ]
  },
  {
   "cell_type": "code",
   "execution_count": 250,
   "metadata": {
    "collapsed": true
   },
   "outputs": [],
   "source": [
    "minuscomma = lambda x: str(x).replace(\",\", \"-\")"
   ]
  },
  {
   "cell_type": "code",
   "execution_count": 251,
   "metadata": {
    "collapsed": false
   },
   "outputs": [],
   "source": [
    "df[\"title\"] = df[\"title\"].apply(minuscomma)"
   ]
  },
  {
   "cell_type": "code",
   "execution_count": 253,
   "metadata": {
    "collapsed": true
   },
   "outputs": [],
   "source": [
    "df.to_csv(\"tracks1.csv\")"
   ]
  },
  {
   "cell_type": "code",
   "execution_count": 266,
   "metadata": {
    "collapsed": true
   },
   "outputs": [],
   "source": [
    "tags =  pd.read_csv(\"tags.csv\")"
   ]
  },
  {
   "cell_type": "code",
   "execution_count": 268,
   "metadata": {
    "collapsed": false
   },
   "outputs": [
    {
     "data": {
      "text/html": [
       "<div>\n",
       "<table border=\"1\" class=\"dataframe\">\n",
       "  <thead>\n",
       "    <tr style=\"text-align: right;\">\n",
       "      <th></th>\n",
       "      <th>track_id</th>\n",
       "      <th>tag</th>\n",
       "    </tr>\n",
       "  </thead>\n",
       "  <tbody>\n",
       "    <tr>\n",
       "      <th>0</th>\n",
       "      <td>278372354</td>\n",
       "      <td>mc</td>\n",
       "    </tr>\n",
       "    <tr>\n",
       "      <th>1</th>\n",
       "      <td>278372354</td>\n",
       "      <td>pikachu</td>\n",
       "    </tr>\n",
       "    <tr>\n",
       "      <th>2</th>\n",
       "      <td>278372354</td>\n",
       "      <td>mc pedrinho</td>\n",
       "    </tr>\n",
       "    <tr>\n",
       "      <th>3</th>\n",
       "      <td>278372354</td>\n",
       "      <td>mc</td>\n",
       "    </tr>\n",
       "    <tr>\n",
       "      <th>4</th>\n",
       "      <td>278372354</td>\n",
       "      <td>pedrinho</td>\n",
       "    </tr>\n",
       "  </tbody>\n",
       "</table>\n",
       "</div>"
      ],
      "text/plain": [
       "    track_id          tag\n",
       "0  278372354           mc\n",
       "1  278372354      pikachu\n",
       "2  278372354  mc pedrinho\n",
       "3  278372354           mc\n",
       "4  278372354     pedrinho"
      ]
     },
     "execution_count": 268,
     "metadata": {},
     "output_type": "execute_result"
    }
   ],
   "source": [
    "tags.columns = [\"track_id\", \"tag\"]\n",
    "tags.head()"
   ]
  },
  {
   "cell_type": "code",
   "execution_count": 273,
   "metadata": {
    "collapsed": false
   },
   "outputs": [],
   "source": [
    "tags[\"tag\"] = tags[\"tag\"].apply(a)"
   ]
  },
  {
   "cell_type": "code",
   "execution_count": 274,
   "metadata": {
    "collapsed": false
   },
   "outputs": [
    {
     "data": {
      "text/html": [
       "<div>\n",
       "<table border=\"1\" class=\"dataframe\">\n",
       "  <thead>\n",
       "    <tr style=\"text-align: right;\">\n",
       "      <th></th>\n",
       "      <th>track_id</th>\n",
       "      <th>tag</th>\n",
       "    </tr>\n",
       "  </thead>\n",
       "  <tbody>\n",
       "    <tr>\n",
       "      <th>0</th>\n",
       "      <td>278372354</td>\n",
       "      <td>b'mc'</td>\n",
       "    </tr>\n",
       "    <tr>\n",
       "      <th>1</th>\n",
       "      <td>278372354</td>\n",
       "      <td>b'pikachu'</td>\n",
       "    </tr>\n",
       "    <tr>\n",
       "      <th>2</th>\n",
       "      <td>278372354</td>\n",
       "      <td>b'mc pedrinho'</td>\n",
       "    </tr>\n",
       "    <tr>\n",
       "      <th>3</th>\n",
       "      <td>278372354</td>\n",
       "      <td>b'mc'</td>\n",
       "    </tr>\n",
       "    <tr>\n",
       "      <th>4</th>\n",
       "      <td>278372354</td>\n",
       "      <td>b'pedrinho'</td>\n",
       "    </tr>\n",
       "    <tr>\n",
       "      <th>5</th>\n",
       "      <td>278372354</td>\n",
       "      <td>b'mc'</td>\n",
       "    </tr>\n",
       "    <tr>\n",
       "      <th>6</th>\n",
       "      <td>278372354</td>\n",
       "      <td>b'mc'</td>\n",
       "    </tr>\n",
       "    <tr>\n",
       "      <th>7</th>\n",
       "      <td>278372354</td>\n",
       "      <td>b'dj r7'</td>\n",
       "    </tr>\n",
       "    <tr>\n",
       "      <th>8</th>\n",
       "      <td>278372354</td>\n",
       "      <td>b'dj'</td>\n",
       "    </tr>\n",
       "    <tr>\n",
       "      <th>9</th>\n",
       "      <td>278372354</td>\n",
       "      <td>b'r7'</td>\n",
       "    </tr>\n",
       "    <tr>\n",
       "      <th>10</th>\n",
       "      <td>278372354</td>\n",
       "      <td>b'dj perera'</td>\n",
       "    </tr>\n",
       "    <tr>\n",
       "      <th>11</th>\n",
       "      <td>278372354</td>\n",
       "      <td>b'dj'</td>\n",
       "    </tr>\n",
       "    <tr>\n",
       "      <th>12</th>\n",
       "      <td>278372354</td>\n",
       "      <td>b'perera'</td>\n",
       "    </tr>\n",
       "    <tr>\n",
       "      <th>13</th>\n",
       "      <td>276348936</td>\n",
       "      <td>b'brutalbass'</td>\n",
       "    </tr>\n",
       "    <tr>\n",
       "      <th>14</th>\n",
       "      <td>276348936</td>\n",
       "      <td>b'brutalbass'</td>\n",
       "    </tr>\n",
       "    <tr>\n",
       "      <th>15</th>\n",
       "      <td>276348936</td>\n",
       "      <td>b'chapeleiro'</td>\n",
       "    </tr>\n",
       "    <tr>\n",
       "      <th>16</th>\n",
       "      <td>276348936</td>\n",
       "      <td>b'progressive'</td>\n",
       "    </tr>\n",
       "    <tr>\n",
       "      <th>17</th>\n",
       "      <td>276348936</td>\n",
       "      <td>b'prog'</td>\n",
       "    </tr>\n",
       "    <tr>\n",
       "      <th>18</th>\n",
       "      <td>276348936</td>\n",
       "      <td>b'minimal'</td>\n",
       "    </tr>\n",
       "    <tr>\n",
       "      <th>19</th>\n",
       "      <td>276348936</td>\n",
       "      <td>b'newminimal'</td>\n",
       "    </tr>\n",
       "    <tr>\n",
       "      <th>20</th>\n",
       "      <td>276348936</td>\n",
       "      <td>b'newprog'</td>\n",
       "    </tr>\n",
       "    <tr>\n",
       "      <th>21</th>\n",
       "      <td>276348936</td>\n",
       "      <td>b'dm7'</td>\n",
       "    </tr>\n",
       "    <tr>\n",
       "      <th>22</th>\n",
       "      <td>276348936</td>\n",
       "      <td>b'chapeleiro'</td>\n",
       "    </tr>\n",
       "    <tr>\n",
       "      <th>23</th>\n",
       "      <td>276348936</td>\n",
       "      <td>b'progressive'</td>\n",
       "    </tr>\n",
       "    <tr>\n",
       "      <th>24</th>\n",
       "      <td>276348936</td>\n",
       "      <td>b'prog'</td>\n",
       "    </tr>\n",
       "    <tr>\n",
       "      <th>25</th>\n",
       "      <td>276348936</td>\n",
       "      <td>b'minimal'</td>\n",
       "    </tr>\n",
       "    <tr>\n",
       "      <th>26</th>\n",
       "      <td>276348936</td>\n",
       "      <td>b'newminimal'</td>\n",
       "    </tr>\n",
       "    <tr>\n",
       "      <th>27</th>\n",
       "      <td>276348936</td>\n",
       "      <td>b'newprog'</td>\n",
       "    </tr>\n",
       "    <tr>\n",
       "      <th>28</th>\n",
       "      <td>276348936</td>\n",
       "      <td>b'dm7'</td>\n",
       "    </tr>\n",
       "    <tr>\n",
       "      <th>29</th>\n",
       "      <td>237535251</td>\n",
       "      <td>b'taylorbennett'</td>\n",
       "    </tr>\n",
       "    <tr>\n",
       "      <th>...</th>\n",
       "      <td>...</td>\n",
       "      <td>...</td>\n",
       "    </tr>\n",
       "    <tr>\n",
       "      <th>43568</th>\n",
       "      <td>285605881</td>\n",
       "      <td>b'lary over'</td>\n",
       "    </tr>\n",
       "    <tr>\n",
       "      <th>43569</th>\n",
       "      <td>285605881</td>\n",
       "      <td>b'lary'</td>\n",
       "    </tr>\n",
       "    <tr>\n",
       "      <th>43570</th>\n",
       "      <td>285605881</td>\n",
       "      <td>b'over'</td>\n",
       "    </tr>\n",
       "    <tr>\n",
       "      <th>43571</th>\n",
       "      <td>280363006</td>\n",
       "      <td>b'justin bieber'</td>\n",
       "    </tr>\n",
       "    <tr>\n",
       "      <th>43572</th>\n",
       "      <td>280363006</td>\n",
       "      <td>b'justin'</td>\n",
       "    </tr>\n",
       "    <tr>\n",
       "      <th>43573</th>\n",
       "      <td>280363006</td>\n",
       "      <td>b'bieber'</td>\n",
       "    </tr>\n",
       "    <tr>\n",
       "      <th>43574</th>\n",
       "      <td>280363006</td>\n",
       "      <td>b'purpose'</td>\n",
       "    </tr>\n",
       "    <tr>\n",
       "      <th>43575</th>\n",
       "      <td>280363006</td>\n",
       "      <td>b'let me love you'</td>\n",
       "    </tr>\n",
       "    <tr>\n",
       "      <th>43576</th>\n",
       "      <td>280363006</td>\n",
       "      <td>b'let'</td>\n",
       "    </tr>\n",
       "    <tr>\n",
       "      <th>43577</th>\n",
       "      <td>280363006</td>\n",
       "      <td>b'me'</td>\n",
       "    </tr>\n",
       "    <tr>\n",
       "      <th>43578</th>\n",
       "      <td>280363006</td>\n",
       "      <td>b'love'</td>\n",
       "    </tr>\n",
       "    <tr>\n",
       "      <th>43579</th>\n",
       "      <td>280363006</td>\n",
       "      <td>b'you'</td>\n",
       "    </tr>\n",
       "    <tr>\n",
       "      <th>43580</th>\n",
       "      <td>280363006</td>\n",
       "      <td>b'tropical'</td>\n",
       "    </tr>\n",
       "    <tr>\n",
       "      <th>43581</th>\n",
       "      <td>280363006</td>\n",
       "      <td>b'love yourself'</td>\n",
       "    </tr>\n",
       "    <tr>\n",
       "      <th>43582</th>\n",
       "      <td>280363006</td>\n",
       "      <td>b'love'</td>\n",
       "    </tr>\n",
       "    <tr>\n",
       "      <th>43583</th>\n",
       "      <td>280363006</td>\n",
       "      <td>b'yourself'</td>\n",
       "    </tr>\n",
       "    <tr>\n",
       "      <th>43584</th>\n",
       "      <td>280363006</td>\n",
       "      <td>b'khamari'</td>\n",
       "    </tr>\n",
       "    <tr>\n",
       "      <th>43585</th>\n",
       "      <td>280363006</td>\n",
       "      <td>b'cover'</td>\n",
       "    </tr>\n",
       "    <tr>\n",
       "      <th>43586</th>\n",
       "      <td>280363006</td>\n",
       "      <td>b'remix'</td>\n",
       "    </tr>\n",
       "    <tr>\n",
       "      <th>43587</th>\n",
       "      <td>280363006</td>\n",
       "      <td>b'sorry'</td>\n",
       "    </tr>\n",
       "    <tr>\n",
       "      <th>43588</th>\n",
       "      <td>280363006</td>\n",
       "      <td>b'selena gomez'</td>\n",
       "    </tr>\n",
       "    <tr>\n",
       "      <th>43589</th>\n",
       "      <td>280363006</td>\n",
       "      <td>b'selena'</td>\n",
       "    </tr>\n",
       "    <tr>\n",
       "      <th>43590</th>\n",
       "      <td>280363006</td>\n",
       "      <td>b'gomez'</td>\n",
       "    </tr>\n",
       "    <tr>\n",
       "      <th>43591</th>\n",
       "      <td>280363006</td>\n",
       "      <td>b'2016'</td>\n",
       "    </tr>\n",
       "    <tr>\n",
       "      <th>43592</th>\n",
       "      <td>280363006</td>\n",
       "      <td>b'cold water'</td>\n",
       "    </tr>\n",
       "    <tr>\n",
       "      <th>43593</th>\n",
       "      <td>280363006</td>\n",
       "      <td>b'cold'</td>\n",
       "    </tr>\n",
       "    <tr>\n",
       "      <th>43594</th>\n",
       "      <td>280363006</td>\n",
       "      <td>b'water'</td>\n",
       "    </tr>\n",
       "    <tr>\n",
       "      <th>43595</th>\n",
       "      <td>280363006</td>\n",
       "      <td>b'dj snake'</td>\n",
       "    </tr>\n",
       "    <tr>\n",
       "      <th>43596</th>\n",
       "      <td>280363006</td>\n",
       "      <td>b'dj'</td>\n",
       "    </tr>\n",
       "    <tr>\n",
       "      <th>43597</th>\n",
       "      <td>280363006</td>\n",
       "      <td>b'snake'</td>\n",
       "    </tr>\n",
       "  </tbody>\n",
       "</table>\n",
       "<p>43598 rows × 2 columns</p>\n",
       "</div>"
      ],
      "text/plain": [
       "        track_id                 tag\n",
       "0      278372354               b'mc'\n",
       "1      278372354          b'pikachu'\n",
       "2      278372354      b'mc pedrinho'\n",
       "3      278372354               b'mc'\n",
       "4      278372354         b'pedrinho'\n",
       "5      278372354               b'mc'\n",
       "6      278372354               b'mc'\n",
       "7      278372354            b'dj r7'\n",
       "8      278372354               b'dj'\n",
       "9      278372354               b'r7'\n",
       "10     278372354        b'dj perera'\n",
       "11     278372354               b'dj'\n",
       "12     278372354           b'perera'\n",
       "13     276348936       b'brutalbass'\n",
       "14     276348936       b'brutalbass'\n",
       "15     276348936       b'chapeleiro'\n",
       "16     276348936      b'progressive'\n",
       "17     276348936             b'prog'\n",
       "18     276348936          b'minimal'\n",
       "19     276348936       b'newminimal'\n",
       "20     276348936          b'newprog'\n",
       "21     276348936              b'dm7'\n",
       "22     276348936       b'chapeleiro'\n",
       "23     276348936      b'progressive'\n",
       "24     276348936             b'prog'\n",
       "25     276348936          b'minimal'\n",
       "26     276348936       b'newminimal'\n",
       "27     276348936          b'newprog'\n",
       "28     276348936              b'dm7'\n",
       "29     237535251    b'taylorbennett'\n",
       "...          ...                 ...\n",
       "43568  285605881        b'lary over'\n",
       "43569  285605881             b'lary'\n",
       "43570  285605881             b'over'\n",
       "43571  280363006    b'justin bieber'\n",
       "43572  280363006           b'justin'\n",
       "43573  280363006           b'bieber'\n",
       "43574  280363006          b'purpose'\n",
       "43575  280363006  b'let me love you'\n",
       "43576  280363006              b'let'\n",
       "43577  280363006               b'me'\n",
       "43578  280363006             b'love'\n",
       "43579  280363006              b'you'\n",
       "43580  280363006         b'tropical'\n",
       "43581  280363006    b'love yourself'\n",
       "43582  280363006             b'love'\n",
       "43583  280363006         b'yourself'\n",
       "43584  280363006          b'khamari'\n",
       "43585  280363006            b'cover'\n",
       "43586  280363006            b'remix'\n",
       "43587  280363006            b'sorry'\n",
       "43588  280363006     b'selena gomez'\n",
       "43589  280363006           b'selena'\n",
       "43590  280363006            b'gomez'\n",
       "43591  280363006             b'2016'\n",
       "43592  280363006       b'cold water'\n",
       "43593  280363006             b'cold'\n",
       "43594  280363006            b'water'\n",
       "43595  280363006         b'dj snake'\n",
       "43596  280363006               b'dj'\n",
       "43597  280363006            b'snake'\n",
       "\n",
       "[43598 rows x 2 columns]"
      ]
     },
     "execution_count": 274,
     "metadata": {},
     "output_type": "execute_result"
    }
   ],
   "source": [
    "tags"
   ]
  },
  {
   "cell_type": "code",
   "execution_count": null,
   "metadata": {
    "collapsed": true
   },
   "outputs": [],
   "source": []
  }
 ],
 "metadata": {
  "anaconda-cloud": {},
  "kernelspec": {
   "display_name": "Python [Root]",
   "language": "python",
   "name": "Python [Root]"
  },
  "language_info": {
   "codemirror_mode": {
    "name": "ipython",
    "version": 3
   },
   "file_extension": ".py",
   "mimetype": "text/x-python",
   "name": "python",
   "nbconvert_exporter": "python",
   "pygments_lexer": "ipython3",
   "version": "3.5.2"
  }
 },
 "nbformat": 4,
 "nbformat_minor": 0
}
