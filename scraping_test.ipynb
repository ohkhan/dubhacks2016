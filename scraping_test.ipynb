{
 "cells": [
  {
   "cell_type": "code",
   "execution_count": 134,
   "metadata": {
    "collapsed": false
   },
   "outputs": [],
   "source": [
    "# Uses beautifulsoup4, urllib, json\n",
    "# Before every commit, do \"git pull --rebase\"\n",
    "\n",
    "'''first, get track ids from genre list\n",
    "\n",
    "create dictionary with key( genre) and value( list of track ids )\n",
    "\n",
    "for each track, get id, user_id, genre, tag_list\n",
    "    for the user in the track:\n",
    "        id, uri, permalink_url, country'''\n",
    "\n",
    "from bs4 import BeautifulSoup\n",
    "import urllib.request\n",
    "import json\n",
    "import csv as csv\n",
    "\n",
    "page_url = \"http://www.soundcloud.com/charts\"\n",
    "page_html = urllib.request.urlopen( page_url ).read()\n",
    "\n",
    "page_beautifulsoup_object = BeautifulSoup( page_html, \"html.parser\" )\n",
    "\n",
    "page_html_file = open( \"html_saved_prettified.html\", \"w\" )\n",
    "page_html_file.write( page_beautifulsoup_object.body.div.find_all( \"noscript\" )[ 1 ].section.section.find_all( \"article\" )[ 1 ].ul.prettify() )\n",
    "\n",
    "page_beautifulsoup_genres_array = page_beautifulsoup_object.body.div.find_all( \"noscript\" )[ 1 ].section.section.find_all( \"article\" )[ 1 ].ul\n",
    "\n",
    "genre_song_list_length_limit = 100\n",
    "\n",
    "api_url_chunk_1 = \"https://api-v2.soundcloud.com/charts?kind=top&genre=soundcloud%3Agenres%3A\"\n",
    "api_url_chunk_2 = \"&client_id=02gUJC0hH2ct1EGOcYXQIzRFU91c72Ea&limit=\" + str( genre_song_list_length_limit ) + \"&offset=0&linked_partitioning=1&app_version=1476434302\"\n",
    "\n",
    "genre_list = []\n",
    "\n",
    "iterator = 0\n",
    "for value in page_beautifulsoup_genres_array:\n",
    "    if iterator > 3 and iterator % 2 == 1:\n",
    "        # Reverse search through the HTML to find the first and last indices of the genre name\n",
    "        genre_string_start_index = repr( value ).rfind( \"=\" ) + 1\n",
    "        genre_string_end_index = repr( value ).rfind( \"\\\"\" )\n",
    "        genre_string = repr( value )[ genre_string_start_index : genre_string_end_index ]\n",
    "        genre_list.append( genre_string )\n",
    "    iterator = iterator + 1\n",
    "\n",
    "f = open(\"tracks.csv\",\"w\")\n",
    "f1 = csv.writer(f)\n",
    "for genre in genre_list:\n",
    "    json_data = urllib.request.urlopen( api_url_chunk_1 + genre + api_url_chunk_2 ).read().decode( \"utf-8\" )\n",
    "    json_object = json.loads( json_data ).get( \"collection\" )\n",
    "    \n",
    "    for song_dict in json_object:\n",
    "        f1.writerow([song_dict[\"track\"][\"id\"],song_dict[\"track\"][\"user_id\"],song_dict[\"track\"][\"title\"],genre,song_dict[\"track\"][\"playback_count\"],song_dict[\"track\"][\"likes_count\"]])\n",
    "#f1.writerow([song_dict[\"track\"][\"id\"],song_dict[\"track\"][\"title\"],genre,song_dict[\"track\"][\"download_count\"],song_dict[\"track\"][\"playback_count\"],song_dict[\"track\"][\"likes_count\"]])\n",
    "\n",
    "f.close()\n"
   ]
  },
  {
   "cell_type": "code",
   "execution_count": 138,
   "metadata": {
    "collapsed": false
   },
   "outputs": [
    {
     "ename": "TypeError",
     "evalue": "parser_f() got an unexpected keyword argument 'columns'",
     "output_type": "error",
     "traceback": [
      "\u001b[0;31m---------------------------------------------------------------------------\u001b[0m",
      "\u001b[0;31mTypeError\u001b[0m                                 Traceback (most recent call last)",
      "\u001b[0;32m<ipython-input-138-5f8142e9ae95>\u001b[0m in \u001b[0;36m<module>\u001b[0;34m()\u001b[0m\n\u001b[1;32m      1\u001b[0m \u001b[0;32mimport\u001b[0m \u001b[0mpandas\u001b[0m \u001b[0;32mas\u001b[0m \u001b[0mpd\u001b[0m\u001b[0;34m\u001b[0m\u001b[0m\n\u001b[0;32m----> 2\u001b[0;31m \u001b[0mpd\u001b[0m\u001b[0;34m.\u001b[0m\u001b[0mread_csv\u001b[0m\u001b[0;34m(\u001b[0m\u001b[0;34m\"tracks.csv\"\u001b[0m\u001b[0;34m,\u001b[0m \u001b[0mcolumns\u001b[0m \u001b[0;34m=\u001b[0m \u001b[0;34m[\u001b[0m\u001b[0;34m\"track_id\"\u001b[0m\u001b[0;34m,\u001b[0m \u001b[0;34m\"user_id\"\u001b[0m\u001b[0;34m,\u001b[0m \u001b[0;34m\"title\"\u001b[0m\u001b[0;34m,\u001b[0m \u001b[0;34m\"genre\"\u001b[0m\u001b[0;34m,\u001b[0m \u001b[0;34m\"playback_count\"\u001b[0m\u001b[0;34m,\u001b[0m \u001b[0;34m\"likes_count\"\u001b[0m\u001b[0;34m]\u001b[0m\u001b[0;34m)\u001b[0m\u001b[0;34m\u001b[0m\u001b[0m\n\u001b[0m",
      "\u001b[0;31mTypeError\u001b[0m: parser_f() got an unexpected keyword argument 'columns'"
     ]
    }
   ],
   "source": [
    "import pandas as pd\n",
    "df = pd.read_csv(\"tracks.csv\", columns = [\"track_id\", \"user_id\", \"title\", \"genre\", \"playback_count\", \"likes_count\"])"
   ]
  },
  {
   "cell_type": "code",
   "execution_count": null,
   "metadata": {
    "collapsed": true
   },
   "outputs": [],
   "source": []
  }
 ],
 "metadata": {
  "kernelspec": {
   "display_name": "Python [Root]",
   "language": "python",
   "name": "Python [Root]"
  },
  "language_info": {
   "codemirror_mode": {
    "name": "ipython",
    "version": 3
   },
   "file_extension": ".py",
   "mimetype": "text/x-python",
   "name": "python",
   "nbconvert_exporter": "python",
   "pygments_lexer": "ipython3",
   "version": "3.5.2"
  }
 },
 "nbformat": 4,
 "nbformat_minor": 0
}
